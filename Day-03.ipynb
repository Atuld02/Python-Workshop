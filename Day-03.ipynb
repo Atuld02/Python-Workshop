{
 "cells": [
  {
   "cell_type": "code",
   "execution_count": 8,
   "metadata": {},
   "outputs": [
    {
     "name": "stdout",
     "output_type": "stream",
     "text": [
      "M\n",
      "A\n",
      "D\n",
      "E\n"
     ]
    }
   ],
   "source": [
    "#function to 2nd word in upper space\n",
    "#input:Python Made Easy\n",
    "#output:MADE\n",
    "def upper(s):\n",
    "    for i in range(len(s)):\n",
    "        if ord(s[i])==32:\n",
    "            j=i+1\n",
    "            while(ord(s[j])!=32):\n",
    "                if ord(s[j])>=97 and ord(s[j])<=122:\n",
    "                    print(chr(ord(s[j])-32))\n",
    "                else:\n",
    "                    print(\"Hi\")\n",
    "                j=j+1\n",
    "            break   \n",
    "upper(\"Python made easy\")                        \n",
    "           \n",
    "               \n",
    "                    \n",
    "                    \n",
    "                    \n",
    "               \n",
    "                \n",
    "             \n"
   ]
  },
  {
   "cell_type": "markdown",
   "metadata": {},
   "source": [
    "#Lists "
   ]
  },
  {
   "cell_type": "markdown",
   "metadata": {},
   "source": [
    "# Lists\n"
   ]
  },
  {
   "cell_type": "code",
   "execution_count": 21,
   "metadata": {},
   "outputs": [
    {
     "name": "stdout",
     "output_type": "stream",
     "text": [
      "[2, 4, 6, 8, 10]\n",
      "2\n",
      "10\n",
      "[6, 8, 10]\n",
      "[10, 8, 6, 4, 2]\n",
      "[6]\n",
      "[10, 4]\n",
      "['Atul', 4, 6, 8, 10]\n",
      "[4, 6, 8, 10]\n"
     ]
    }
   ],
   "source": [
    "li=[2,4,6,8,10]\n",
    "print(li)#Access all\n",
    "print(li[0])#Accesses 0th element\n",
    "print(li[-1])#Accesses from last\n",
    "print(li[2:])#Accesses from 2nd element to last\n",
    "print(li[::-1])#Dsplays in reverse\n",
    "print(li[2::4])#Displays elements between 2 index values\n",
    "print(li[-1::-3])#displays 1st element from last then 1+3=4th element\n",
    "li[0]=\"Atul\"#updating 1st value in list\n",
    "print(li[0::])\n",
    "del li[0]#deletes 0th index element or value\n",
    "print(li)\n",
    "\n",
    "\n"
   ]
  },
  {
   "cell_type": "markdown",
   "metadata": {},
   "source": [
    "# Basic List Operations"
   ]
  },
  {
   "cell_type": "code",
   "execution_count": 32,
   "metadata": {},
   "outputs": [
    {
     "name": "stdout",
     "output_type": "stream",
     "text": [
      "6\n",
      "[1, 2, 3, 4, 5, 6, 1, 2, 3, 4, 5, 6]\n",
      "True\n",
      "1 2 3 4 5 6 "
     ]
    }
   ],
   "source": [
    "l=[1,2,3,4,5,6]\n",
    "print(len(l))#length of lis\n",
    "print(l *2)#repeating list 2 time\n",
    "print(6 in l)#chechks wether given element is there in list or not\n",
    "for i in range(len(l)):#to print all list elements using iterations\n",
    "    print(l[i],end=' ')\n",
    "\n"
   ]
  },
  {
   "cell_type": "markdown",
   "metadata": {},
   "source": [
    "# Basic list Functions\n"
   ]
  },
  {
   "cell_type": "code",
   "execution_count": 15,
   "metadata": {},
   "outputs": [
    {
     "name": "stdout",
     "output_type": "stream",
     "text": [
      "40\n",
      "10\n",
      "100\n",
      "25\n",
      "[10, 20, 30, 40, 100]\n",
      "[10, 20, 45, 30, 40, 100]\n"
     ]
    },
    {
     "data": {
      "text/plain": [
       "[10, 20, 30, 40, 45]"
      ]
     },
     "execution_count": 15,
     "metadata": {},
     "output_type": "execute_result"
    }
   ],
   "source": [
    "l=[10,20,30,40]\n",
    "print(max(l))#Max element it gives\n",
    "print(min(l))#Min element it gives\n",
    "print(sum(l))#displays sum of all elements present in a list\n",
    "print(sum(l)//len(l))#gives avg of all list elements\n",
    "l.append(100)#new values gets added by default at last index\n",
    "print(l)\n",
    "l.insert(2,45)#adds 45 element at the 2nd index of the lsit\n",
    "print(l)\n",
    "l.count(100)#counts how many the times that item is present in the list\n",
    "l.index(40)#returns theindex of the element\n",
    "\n",
    "l.pop()#deletes last element of d list\n",
    "l.sort()#sorts the list \n",
    "l\n",
    "\n"
   ]
  },
  {
   "cell_type": "code",
   "execution_count": 26,
   "metadata": {},
   "outputs": [
    {
     "name": "stdout",
     "output_type": "stream",
     "text": [
      "[1, 2, 3, 4, 5, 6]\n",
      "[6, 5, 4, 3, 2, 1]\n"
     ]
    }
   ],
   "source": [
    "l1=[1,2,3]\n",
    "l2=[4,5,6]\n",
    "l1.extend(l2)\n",
    "print(l1)\n",
    "l1.reverse()\n",
    "print(l1)\n"
   ]
  },
  {
   "cell_type": "code",
   "execution_count": 35,
   "metadata": {},
   "outputs": [
    {
     "name": "stdout",
     "output_type": "stream",
     "text": [
      "100\n",
      "67\n"
     ]
    }
   ],
   "source": [
    "#function to return largest element in a list\n",
    "def large(l):\n",
    "    l.sort()\n",
    "    return l[-1]\n",
    "def gl(l,n):\n",
    "    l.sort()\n",
    "    return l[-n]\n",
    "l=[100,80,67,54,32,21]\n",
    "print(large(l))\n",
    "print(gl(l,3))"
   ]
  },
  {
   "cell_type": "code",
   "execution_count": 40,
   "metadata": {},
   "outputs": [
    {
     "name": "stdout",
     "output_type": "stream",
     "text": [
      "21\n",
      "32\n"
     ]
    }
   ],
   "source": [
    "# function to retuen smallest and 2nd smallest no. in a list\n",
    "def large(l):\n",
    "    l.sort()\n",
    "    return l[0]\n",
    "def gl(l,n):\n",
    "    l.sort()\n",
    "    return l[n-1]\n",
    "l=[100,80,67,54,32,21]\n",
    "print(large(l))\n",
    "print(gl(l,2))"
   ]
  },
  {
   "cell_type": "markdown",
   "metadata": {},
   "source": [
    "# File Handling In Python\n",
    "- File - Document which contains some information and resides on permament devices\n",
    "- Diifrent Types Of File==.txt,.pdf,etc....\n",
    "- Input -- Keyboard\n",
    "- Output-- File System"
   ]
  },
  {
   "cell_type": "code",
   "execution_count": 56,
   "metadata": {},
   "outputs": [
    {
     "name": "stdout",
     "output_type": "stream",
     "text": [
      "File has been sucessfully created and data has been inserted\n"
     ]
    }
   ],
   "source": [
    "#Function to create file and write some data to the file\n",
    "#Mode --w(It creates the file and write some data\n",
    "# IF a file alreday exits with same name then its data gets overwritten\n",
    "def create(filename):\n",
    "    f=open(filename,'w')\n",
    "    for i in range(10):\n",
    "        f.write(\"This is %d Line \\n\" % i)\n",
    "    print(\"File has been sucessfully created and data has been inserted\")\n",
    "create('data.txt')    "
   ]
  },
  {
   "cell_type": "code",
   "execution_count": 66,
   "metadata": {},
   "outputs": [
    {
     "name": "stdout",
     "output_type": "stream",
     "text": [
      "Test 1\n",
      "HI\n",
      "hello\n",
      "\n"
     ]
    }
   ],
   "source": [
    "#Function To read the File\n",
    "def read(filename):\n",
    "    f=open(filename,'r')\n",
    "    if f.mode == 'r':\n",
    "        print(f.read())\n",
    "            \n",
    "    f.close()\n",
    "read(\"data.txt\")    \n",
    "    \n",
    "          "
   ]
  },
  {
   "cell_type": "code",
   "execution_count": 42,
   "metadata": {},
   "outputs": [],
   "source": [
    "#Analysis Of File--word count,Char Count,Digit Count"
   ]
  },
  {
   "cell_type": "code",
   "execution_count": 68,
   "metadata": {},
   "outputs": [
    {
     "name": "stdout",
     "output_type": "stream",
     "text": [
      "Done\n"
     ]
    }
   ],
   "source": [
    "def create(filename):\n",
    "    f=open(filename,'w')\n",
    "    f.write(\"Test 1\\n\")\n",
    "    print(\"Done\")\n",
    "create(\"data.txt\")    \n",
    "    "
   ]
  },
  {
   "cell_type": "code",
   "execution_count": 69,
   "metadata": {},
   "outputs": [
    {
     "name": "stdout",
     "output_type": "stream",
     "text": [
      "Done\n"
     ]
    }
   ],
   "source": [
    "def appendMode(filename):\n",
    "    f=open(filename,'a')\n",
    "    f.write(\"HI\\n\")\n",
    "    f.write(\"hello\\n\")\n",
    "    print(\"Done\")\n",
    "appendMode(\"data.txt\")    "
   ]
  },
  {
   "cell_type": "code",
   "execution_count": 70,
   "metadata": {},
   "outputs": [
    {
     "data": {
      "text/plain": [
       "4"
      ]
     },
     "execution_count": 70,
     "metadata": {},
     "output_type": "execute_result"
    }
   ],
   "source": [
    "#WordCount\n",
    "def wc(filename):\n",
    "    with open(filename,'r') as f:\n",
    "        if f.mode == 'r':\n",
    "            a=f.read()\n",
    "            l=a.split()\n",
    "    return len(l)\n",
    "wc(\"data.txt\")"
   ]
  },
  {
   "cell_type": "code",
   "execution_count": 332,
   "metadata": {},
   "outputs": [
    {
     "data": {
      "text/plain": [
       "0"
      ]
     },
     "execution_count": 332,
     "metadata": {},
     "output_type": "execute_result"
    }
   ],
   "source": [
    "#Specific wordCount\n",
    "def swc(filename):\n",
    "    with open(filename,'r') as f:\n",
    "        if f.mode == 'r':\n",
    "            a=f.read()\n",
    "            l=a.split()\n",
    "    return l.count(\"abc\")\n",
    "swc(\"data.txt\")"
   ]
  },
  {
   "cell_type": "code",
   "execution_count": 333,
   "metadata": {},
   "outputs": [
    {
     "data": {
      "text/plain": [
       "16"
      ]
     },
     "execution_count": 333,
     "metadata": {},
     "output_type": "execute_result"
    }
   ],
   "source": [
    "#function to find no. of times a character is being repeated in a string\n",
    "def cc(filename):\n",
    "    with open(filename,'r') as f:\n",
    "        if f.mode == 'r':\n",
    "            a=f.read()\n",
    "            l=list(a)\n",
    "    return len(l)\n",
    "cc(\"data.txt\")\n",
    "    "
   ]
  },
  {
   "cell_type": "code",
   "execution_count": 3689,
   "metadata": {},
   "outputs": [
    {
     "data": {
      "text/plain": [
       "4"
      ]
     },
     "execution_count": 3689,
     "metadata": {},
     "output_type": "execute_result"
    }
   ],
   "source": [
    "#Line Count\n",
    "def lc(filename):\n",
    "    with open(filename,'r') as f:\n",
    "        if f.mode == 'r':\n",
    "            a=f.read()\n",
    "            l=a.split('\\n')\n",
    "    return len(l)\n",
    "lc(\"data.txt\")\n",
    "\n",
    "    "
   ]
  },
  {
   "cell_type": "code",
   "execution_count": 3696,
   "metadata": {},
   "outputs": [
    {
     "data": {
      "text/plain": [
       "'Upper Case : 3 Lower Case : 8 Digit : 1 '"
      ]
     },
     "execution_count": 3696,
     "metadata": {},
     "output_type": "execute_result"
    }
   ],
   "source": [
    "#function to find lower case and upper case char in a file\n",
    "def casecount(filename):\n",
    "    d=0\n",
    "    b=0\n",
    "    c=0\n",
    "    with open(filename,'r') as f:\n",
    "        if f.mode=='r':\n",
    "            a=f.read()\n",
    "            l=list(a)\n",
    "    for i in range(len(l)):\n",
    "        if ord(l[i])>=65 and ord(l[i])<=90:\n",
    "            d+=1\n",
    "        elif ord(l[i])>=97 and ord(l[i])<=122:\n",
    "            b+=1\n",
    "        elif ord(l[i])>=48 and ord(l[i])<=157: \n",
    "            c+=1\n",
    "    output=\"Upper Case : {0} Lower Case : {1} Digit : {2} \".format(d,b,c)\n",
    "    return output\n",
    "casecount(\"data.txt\")"
   ]
  },
  {
   "cell_type": "code",
   "execution_count": null,
   "metadata": {},
   "outputs": [],
   "source": []
  },
  {
   "cell_type": "code",
   "execution_count": null,
   "metadata": {},
   "outputs": [],
   "source": []
  },
  {
   "cell_type": "code",
   "execution_count": null,
   "metadata": {},
   "outputs": [],
   "source": []
  },
  {
   "cell_type": "code",
   "execution_count": null,
   "metadata": {},
   "outputs": [],
   "source": []
  },
  {
   "cell_type": "code",
   "execution_count": null,
   "metadata": {},
   "outputs": [],
   "source": []
  }
 ],
 "metadata": {
  "kernelspec": {
   "display_name": "Python 3",
   "language": "python",
   "name": "python3"
  },
  "language_info": {
   "codemirror_mode": {
    "name": "ipython",
    "version": 3
   },
   "file_extension": ".py",
   "mimetype": "text/x-python",
   "name": "python",
   "nbconvert_exporter": "python",
   "pygments_lexer": "ipython3",
   "version": "3.7.3"
  }
 },
 "nbformat": 4,
 "nbformat_minor": 2
}
