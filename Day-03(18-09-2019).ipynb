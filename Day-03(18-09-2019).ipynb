{
 "cells": [
  {
   "cell_type": "markdown",
   "metadata": {},
   "source": [
    "# Strings\n"
   ]
  },
  {
   "cell_type": "code",
   "execution_count": 1,
   "metadata": {},
   "outputs": [
    {
     "name": "stdout",
     "output_type": "stream",
     "text": [
      "ABC <class 'str'>\n",
      "a <class 'str'>\n",
      "Python <class 'str'>\n"
     ]
    }
   ],
   "source": [
    "s1=\"ABC\"\n",
    "s2='a'\n",
    "s3='Python'\n",
    "print(s1,type(s1))\n",
    "print(s2,type(s2))\n",
    "print(s3,type(s3))"
   ]
  },
  {
   "cell_type": "markdown",
   "metadata": {},
   "source": [
    "a=input(\"Enter Something:\")\n",
    "print(a,type(a))"
   ]
  },
  {
   "cell_type": "markdown",
   "metadata": {},
   "source": [
    "# String Slicing"
   ]
  },
  {
   "cell_type": "code",
   "execution_count": 41,
   "metadata": {},
   "outputs": [
    {
     "name": "stdout",
     "output_type": "stream",
     "text": [
      "6\n",
      "P y\n",
      "n\n",
      "n\n",
      "n o h t y P\n",
      "Python\n",
      "hon\n",
      "hon\n",
      "ytho\n",
      "ython\n",
      "nohtyP\n",
      "Pto\n",
      "nhy\n",
      "Pn\n"
     ]
    }
   ],
   "source": [
    "s='Python'\n",
    "print(len(s))\n",
    "print(s[0],s[1])\n",
    "print(s[len(s)-1])#Accessing last char\n",
    "print(s[-1]) #Accessing last char\n",
    "print(s[-1],s[-2],s[-3],s[-4],s[-5],s[-6])#Accessing from right to left\n",
    "print(s[0:len(s)])#Accessing all char. of string\n",
    "print(s[3:])#prints from 3rd char to last char from the string\n",
    "print(s[-3:])#Access last 3 chars.\n",
    "print(s[1:-1])#Acesses all chars. except 1st and last\n",
    "print(s[1::])#Accesses all chars. except 1st one\n",
    "print(s[-1::-1])#Reverse\n",
    "print(s[::2])#Accesses alternate chars. of a string starting from 1st char\n",
    "print(s[::-2])#Accesses alternate chars. ina string in reverse order\n",
    "print(s[::5])#Accesses 1st char then 5th char of a string\n"
   ]
  },
  {
   "cell_type": "markdown",
   "metadata": {},
   "source": [
    "# Functions with string\n"
   ]
  },
  {
   "cell_type": "code",
   "execution_count": 42,
   "metadata": {},
   "outputs": [
    {
     "data": {
      "text/plain": [
       "'nohtyP'"
      ]
     },
     "execution_count": 42,
     "metadata": {},
     "output_type": "execute_result"
    }
   ],
   "source": [
    "#reverse\n",
    "def reverse(s):\n",
    "    return(s[-1::-1])\n",
    "reverse(\"Python\")"
   ]
  },
  {
   "cell_type": "code",
   "execution_count": 53,
   "metadata": {},
   "outputs": [
    {
     "name": "stdout",
     "output_type": "stream",
     "text": [
      "False\n",
      "True\n"
     ]
    }
   ],
   "source": [
    "#string palindrome\n",
    "def ispalindrome(s):\n",
    "    if s == s[-1::-1]:\n",
    "         return True\n",
    "    return False    \n",
    "print(ispalindrome('Python'))\n",
    "print(ispalindrome('ganag'))"
   ]
  },
  {
   "cell_type": "code",
   "execution_count": 54,
   "metadata": {},
   "outputs": [
    {
     "name": "stdout",
     "output_type": "stream",
     "text": [
      "A\n",
      "B\n",
      "C\n"
     ]
    }
   ],
   "source": [
    "#function to print uppercase char from a given string\n",
    "#ASCII Values\n",
    "#A-Z:65-90\n",
    "#a-z:97-122\n",
    "#0-9:48-57\n",
    "#space:32\n",
    "def upper(s):\n",
    "    for i in range(len(s)):\n",
    "        if ord(s[i])>=65 and ord(s[i])<=90:\n",
    "            print(s[i])\n",
    "    return \n",
    "upper(\"ABC\")\n",
    "        \n",
    "        "
   ]
  },
  {
   "cell_type": "code",
   "execution_count": 55,
   "metadata": {},
   "outputs": [
    {
     "name": "stdout",
     "output_type": "stream",
     "text": [
      "b\n"
     ]
    }
   ],
   "source": [
    "#function to print lower case char from a given string\n",
    "def lower(s):\n",
    "    for i in range(len(s)):\n",
    "        if ord(s[i])>=97 and ord(s[i])<=122:\n",
    "            print(s[i])\n",
    "    return \n",
    "lower(\"AbC\")"
   ]
  },
  {
   "cell_type": "code",
   "execution_count": 69,
   "metadata": {},
   "outputs": [
    {
     "name": "stdout",
     "output_type": "stream",
     "text": [
      "Same\n"
     ]
    }
   ],
   "source": [
    "#function samecount \n",
    "#samecount=no. of lowercase char and no. of uppercase char are same\n",
    "def samecount(s):\n",
    "    a=0\n",
    "    b=0\n",
    "   \n",
    "    for i in range(len(s)):\n",
    "        if ord(s[i])>=97 and ord(s[i])<=122:\n",
    "            a=a+1\n",
    "        elif ord(s[i])>=65 and ord(s[i])<=90:\n",
    "            b=b+1\n",
    "    if(a==b):\n",
    "         print(\"Same\")\n",
    "    else:\n",
    "        print(\"Programming\")\n",
    "            \n",
    "\n",
    "samecount(\"Aa\")    \n"
   ]
  },
  {
   "cell_type": "code",
   "execution_count": 72,
   "metadata": {},
   "outputs": [
    {
     "name": "stdout",
     "output_type": "stream",
     "text": [
      "1\n",
      "2\n",
      "3\n"
     ]
    }
   ],
   "source": [
    "#printing digits\n",
    "def num(s):\n",
    "    for i in range(len(s)):\n",
    "        if ord(s[i])>=48 and ord(s[i])<=57:\n",
    "            print(s[i])\n",
    "num(\"123\")            "
   ]
  },
  {
   "cell_type": "code",
   "execution_count": 80,
   "metadata": {},
   "outputs": [
    {
     "data": {
      "text/plain": [
       "45"
      ]
     },
     "execution_count": 80,
     "metadata": {},
     "output_type": "execute_result"
    }
   ],
   "source": [
    "#summing digits\n",
    "def num(s):\n",
    "    a=0\n",
    "    for i in range(len(s)):\n",
    "        if ord(s[i])>=48 and ord(s[i])<=57:\n",
    "            a+=int(s[i])# or a+=ord(s[i])-48\n",
    "    return a        \n",
    "           \n",
    "num(\"0123456789\")  "
   ]
  },
  {
   "cell_type": "code",
   "execution_count": null,
   "metadata": {},
   "outputs": [],
   "source": [
    "#function to 2nd word in upper space\n",
    "#input:Python Made Easy\n",
    "#output:MADE\n",
    "def upper(s):\n",
    "    for i in range(len(s)):\n",
    "        if ord(s[i])==32:\n",
    "            j=i+1\n",
    "            while(ord(s[j])!=32):\n",
    "                 if ord(s[j])>=97 and ord(s[j])<=122:\n",
    "                        print(chr(ord(s[j]-32)))\n",
    "                        break\n",
    "           \n",
    "upper(\"Python Made Easy\")                    \n",
    "                    \n",
    "                    \n",
    "                    \n",
    "               \n",
    "                \n",
    "             \n"
   ]
  },
  {
   "cell_type": "code",
   "execution_count": null,
   "metadata": {},
   "outputs": [],
   "source": []
  },
  {
   "cell_type": "code",
   "execution_count": null,
   "metadata": {},
   "outputs": [],
   "source": []
  },
  {
   "cell_type": "code",
   "execution_count": null,
   "metadata": {},
   "outputs": [],
   "source": []
  }
 ],
 "metadata": {
  "kernelspec": {
   "display_name": "Python 3",
   "language": "python",
   "name": "python3"
  },
  "language_info": {
   "codemirror_mode": {
    "name": "ipython",
    "version": 3
   },
   "file_extension": ".py",
   "mimetype": "text/x-python",
   "name": "python",
   "nbconvert_exporter": "python",
   "pygments_lexer": "ipython3",
   "version": "3.7.3"
  }
 },
 "nbformat": 4,
 "nbformat_minor": 2
}
