{
 "cells": [
  {
   "cell_type": "markdown",
   "metadata": {},
   "source": [
    "# Regular Expression for Indian mobile no.\n",
    "- 10 digit no.\n",
    "    - First no. starts from [6-9]\n",
    "    - Rest Of the no. is between [0-9]\n",
    "- 11 digit no.\n",
    "    - First digit can be zero\n",
    "    - second no. can be [6-9]\n",
    "    - Rest Of the 9 Numbers are between [0-9]\n",
    "    - Ex:09851741520 #valid\n",
    "- 13 Digit number:\n",
    "    - First no. can be +\n",
    "    - Second no. 9\n",
    "    - Third no. 1\n",
    "    - Fourth no. [6-9]\n",
    "    - Rest Of the 9 Numbers are between [0-9]\n",
    "    \n",
    "    \n",
    "    "
   ]
  },
  {
   "cell_type": "code",
   "execution_count": 12,
   "metadata": {},
   "outputs": [
    {
     "data": {
      "text/plain": [
       "True"
      ]
     },
     "execution_count": 12,
     "metadata": {},
     "output_type": "execute_result"
    }
   ],
   "source": [
    "# Rule 1: ^[6-9][0-9]{9}$\n",
    "# Rule 2:^[0][6-9][0-9]{9}$\n",
    "#Rule 3: ^[+][9][1][6-9][0-9]{9}$\n",
    "import re\n",
    "def validate(n):\n",
    "    pattern='^[6-9][0-9]{9}$|^[0][6-9][0-9]{9}$|^[+][9][1][6-9][0-9]{9}$'\n",
    "    n=str(n)\n",
    "    if re.match(pattern,n):\n",
    "        return True\n",
    "    return False\n",
    "#validate('+918111111123')\n",
    "validate('09851741520')"
   ]
  },
  {
   "cell_type": "markdown",
   "metadata": {},
   "source": [
    "# Validate Email-ID\n",
    "- Exmaple:Username@DomainNmae.extension\n",
    "- Username :\n",
    "    - Len Of String will be [6-15]\n",
    "    - No Spl Chracaters except Underscore(_)\n",
    "    - Shouldn't Begin with Underscore(_)\n",
    "    - All Characters set digits,Lower Case and Upper Case \n",
    "         - Ex : Anil_1889\n",
    "- DomainName :\n",
    "     - Len of string will be [3-18]\n",
    "     - No spcl Characters\n",
    "     - Characters set will be Digits, Lower Case and Upper Case\n",
    "          - Ex : gmail,hotmail,rediff and etc..\n",
    "- Extensions :\n",
    "     - Len Of string will be [2-4]\n",
    "     - No SpCharacters Allowed.\n",
    "     - Character Set will be Lower Case characters.\n",
    "          \n",
    "                "
   ]
  },
  {
   "cell_type": "code",
   "execution_count": null,
   "metadata": {},
   "outputs": [],
   "source": []
  },
  {
   "cell_type": "code",
   "execution_count": 15,
   "metadata": {},
   "outputs": [
    {
     "data": {
      "text/plain": [
       "True"
      ]
     },
     "execution_count": 15,
     "metadata": {},
     "output_type": "execute_result"
    }
   ],
   "source": [
    "def email(e):\n",
    "    pattern='^[0-9a-zA-Z][0-9a-zA-Z_.]{5,1400}[@][a-zA-z]{3,18}[.][a-z]{2,4}$'\n",
    "    if re.match(pattern,e):\n",
    "        return True\n",
    "    return False\n",
    "email('atulbelievethat02@gmail.com')"
   ]
  },
  {
   "cell_type": "markdown",
   "metadata": {},
   "source": [
    "# Packages & Modules & Subpackages"
   ]
  },
  {
   "cell_type": "code",
   "execution_count": 16,
   "metadata": {},
   "outputs": [
    {
     "data": {
      "text/plain": [
       "123"
      ]
     },
     "execution_count": 16,
     "metadata": {},
     "output_type": "execute_result"
    }
   ],
   "source": [
    "import math\n",
    "math.floor(123.456)"
   ]
  },
  {
   "cell_type": "code",
   "execution_count": 17,
   "metadata": {},
   "outputs": [
    {
     "data": {
      "text/plain": [
       "124"
      ]
     },
     "execution_count": 17,
     "metadata": {},
     "output_type": "execute_result"
    }
   ],
   "source": [
    "math.ceil(123.456)"
   ]
  },
  {
   "cell_type": "code",
   "execution_count": 18,
   "metadata": {},
   "outputs": [
    {
     "data": {
      "text/plain": [
       "120"
      ]
     },
     "execution_count": 18,
     "metadata": {},
     "output_type": "execute_result"
    }
   ],
   "source": [
    "from math import factorial as fact\n",
    "fact(5)"
   ]
  },
  {
   "cell_type": "code",
   "execution_count": 20,
   "metadata": {},
   "outputs": [
    {
     "data": {
      "text/plain": [
       "10"
      ]
     },
     "execution_count": 20,
     "metadata": {},
     "output_type": "execute_result"
    }
   ],
   "source": [
    "from math import gcd as gcd\n",
    "gcd(10,20)"
   ]
  },
  {
   "cell_type": "code",
   "execution_count": 29,
   "metadata": {},
   "outputs": [
    {
     "ename": "AttributeError",
     "evalue": "module 'turtle' has no attribute 'Turtle'",
     "output_type": "error",
     "traceback": [
      "\u001b[1;31m---------------------------------------------------------------------------\u001b[0m",
      "\u001b[1;31mAttributeError\u001b[0m                            Traceback (most recent call last)",
      "\u001b[1;32m<ipython-input-29-6c69af7a0561>\u001b[0m in \u001b[0;36m<module>\u001b[1;34m\u001b[0m\n\u001b[0;32m      1\u001b[0m \u001b[1;31m#Import package Turtle\u001b[0m\u001b[1;33m\u001b[0m\u001b[1;33m\u001b[0m\u001b[1;33m\u001b[0m\u001b[0m\n\u001b[1;32m----> 2\u001b[1;33m \u001b[1;32mimport\u001b[0m \u001b[0mturtle\u001b[0m\u001b[1;33m\u001b[0m\u001b[1;33m\u001b[0m\u001b[0m\n\u001b[0m\u001b[0;32m      3\u001b[0m \u001b[1;31m# a1=turtle.Turtle()\u001b[0m\u001b[1;33m\u001b[0m\u001b[1;33m\u001b[0m\u001b[1;33m\u001b[0m\u001b[0m\n\u001b[0;32m      4\u001b[0m \u001b[1;31m# # Draw a line\u001b[0m\u001b[1;33m\u001b[0m\u001b[1;33m\u001b[0m\u001b[1;33m\u001b[0m\u001b[0m\n\u001b[0;32m      5\u001b[0m \u001b[1;31m# a1.forward(100)\u001b[0m\u001b[1;33m\u001b[0m\u001b[1;33m\u001b[0m\u001b[1;33m\u001b[0m\u001b[0m\n",
      "\u001b[1;32m~\\Desktop\\Problem Solving And Programming\\turtle.py\u001b[0m in \u001b[0;36m<module>\u001b[1;34m\u001b[0m\n\u001b[0;32m      1\u001b[0m \u001b[1;31m#Import package Turtle\u001b[0m\u001b[1;33m\u001b[0m\u001b[1;33m\u001b[0m\u001b[1;33m\u001b[0m\u001b[0m\n\u001b[0;32m      2\u001b[0m \u001b[1;32mimport\u001b[0m \u001b[0mturtle\u001b[0m\u001b[1;33m\u001b[0m\u001b[1;33m\u001b[0m\u001b[0m\n\u001b[1;32m----> 3\u001b[1;33m \u001b[0ma1\u001b[0m\u001b[1;33m=\u001b[0m\u001b[0mturtle\u001b[0m\u001b[1;33m.\u001b[0m\u001b[0mTurtle\u001b[0m\u001b[1;33m(\u001b[0m\u001b[1;33m)\u001b[0m\u001b[1;33m\u001b[0m\u001b[1;33m\u001b[0m\u001b[0m\n\u001b[0m\u001b[0;32m      4\u001b[0m \u001b[1;31m# Draw a line\u001b[0m\u001b[1;33m\u001b[0m\u001b[1;33m\u001b[0m\u001b[1;33m\u001b[0m\u001b[0m\n\u001b[0;32m      5\u001b[0m \u001b[0ma1\u001b[0m\u001b[1;33m.\u001b[0m\u001b[0mforward\u001b[0m\u001b[1;33m(\u001b[0m\u001b[1;36m100\u001b[0m\u001b[1;33m)\u001b[0m\u001b[1;33m\u001b[0m\u001b[1;33m\u001b[0m\u001b[0m\n",
      "\u001b[1;31mAttributeError\u001b[0m: module 'turtle' has no attribute 'Turtle'"
     ]
    }
   ],
   "source": [
    "#Import package Turtle\n",
    "import turtle\n",
    "# a1=turtle.Turtle()\n",
    "# # Draw a line\n",
    "# a1.forward(100)\n",
    "# #To close the window\n",
    "# turtle.done()"
   ]
  },
  {
   "cell_type": "code",
   "execution_count": 53,
   "metadata": {},
   "outputs": [
    {
     "name": "stdout",
     "output_type": "stream",
     "text": [
      "6 3 2 "
     ]
    }
   ],
   "source": [
    "import random\n",
    "def rando(n,lb,ub):\n",
    "    for i in range(0,n):\n",
    "        print(random.randint(lb,ub),end=' ')\n",
    "rando(3,2,10)        "
   ]
  },
  {
   "cell_type": "code",
   "execution_count": 122,
   "metadata": {},
   "outputs": [
    {
     "name": "stdout",
     "output_type": "stream",
     "text": [
      "Congrats!!!\n"
     ]
    }
   ],
   "source": [
    "# Create A Game\n",
    "# Try to genrate 20 numbers\n",
    "# input:Number\n",
    "#Present:congrats!!!\n",
    "#Not Present: Try Again !!!\n",
    "from random import randint as rdint\n",
    "def gn(n,lb,ub):\n",
    "    l=[]\n",
    "    for i in range(0,n):\n",
    "        l.append(rdint(lb,ub))\n",
    "    return l   \n",
    "#gn(20,100,200)\n",
    "def check(n):\n",
    "    l=gn(100,100,200)\n",
    "    if n in l:\n",
    "        print(\"Congrats!!!\")\n",
    "    else:\n",
    "        print(\"Congrats!!!\")\n",
    "check(184) \n",
    "    \n",
    "        "
   ]
  },
  {
   "cell_type": "code",
   "execution_count": null,
   "metadata": {},
   "outputs": [],
   "source": [
    "   #Import package Turtle\n",
    "import turtle\n",
    "a1=turtle.Turtle()\n",
    "#a1.goto(10000000000,0)\n",
    "# Draw a line\n",
    "a1.backward(1000)\n",
    "#To close the window\n",
    "turtle.done()\n"
   ]
  },
  {
   "cell_type": "code",
   "execution_count": null,
   "metadata": {},
   "outputs": [],
   "source": []
  }
 ],
 "metadata": {
  "kernelspec": {
   "display_name": "Python 3",
   "language": "python",
   "name": "python3"
  },
  "language_info": {
   "codemirror_mode": {
    "name": "ipython",
    "version": 3
   },
   "file_extension": ".py",
   "mimetype": "text/x-python",
   "name": "python",
   "nbconvert_exporter": "python",
   "pygments_lexer": "ipython3",
   "version": "3.7.3"
  }
 },
 "nbformat": 4,
 "nbformat_minor": 2
}
